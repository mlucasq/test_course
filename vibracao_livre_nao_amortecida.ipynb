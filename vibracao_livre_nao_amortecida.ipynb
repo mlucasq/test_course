{
 "cells": [
  {
   "cell_type": "markdown",
   "id": "f43564df-380a-425e-a4dc-6f72853da14b",
   "metadata": {},
   "source": [
    "# VIBRAÇÕES LIVRES NÃO AMORTECIDAS"
   ]
  },
  {
   "cell_type": "code",
   "execution_count": 1,
   "id": "99f68eeb-e57c-45b6-aea9-8dd655fe6b2e",
   "metadata": {},
   "outputs": [],
   "source": [
    "import numpy as np\n",
    "import matplotlib.pyplot as plt\n",
    "from matplotlib import animation\n",
    "from IPython.display import HTML, display\n",
    "from ipywidgets import FloatSlider, Button, VBox, HBox, interactive_output\n",
    "from scipy.integrate import odeint"
   ]
  },
  {
   "cell_type": "markdown",
   "id": "648304c3-c0fd-41d2-89da-0dd8f6ed73e2",
   "metadata": {},
   "source": [
    "# Vibrações Livres\n",
    "\n",
    "Este notebook explora o comportamento de um sistema massa-mola sujeito a vibrações livres, ou seja, sem forças externas ou amortecimento.\n",
    "\n",
    "A equação diferencial que governa o movimento é:\n",
    "\n",
    "$$\n",
    "m\\ddot{x} + kx = 0\n",
    "$$\n",
    "\n",
    "A solução geral é:\n",
    "\n",
    "$$\n",
    "x(t) = A \\cos(\\omega_n t) + B \\sin(\\omega_n t)\n",
    "$$\n",
    "\n",
    "onde $ \\left( \\omega_n = \\sqrt{\\frac{k}{m}} \\right) $ é a frequência natural de oscilação.\n",
    "\n",
    "Use os controles abaixo para modificar os parâmetros e observar a resposta do sistema.\n"
   ]
  },
  {
   "cell_type": "code",
   "execution_count": 5,
   "id": "81bacc1b-2521-45d9-9230-8619fbad8e6e",
   "metadata": {},
   "outputs": [
    {
     "data": {
      "application/vnd.jupyter.widget-view+json": {
       "model_id": "2fb9c98079fd484fa2ee1a0564a29c9f",
       "version_major": 2,
       "version_minor": 0
      },
      "text/plain": [
       "VBox(children=(HBox(children=(FloatSlider(value=1.0, description='Massa (kg)', max=10.0, min=0.1), FloatSlider…"
      ]
     },
     "metadata": {},
     "output_type": "display_data"
    },
    {
     "data": {
      "application/vnd.jupyter.widget-view+json": {
       "model_id": "55b024ca40924e258fca3df5caf59532",
       "version_major": 2,
       "version_minor": 0
      },
      "text/plain": [
       "Output()"
      ]
     },
     "metadata": {},
     "output_type": "display_data"
    }
   ],
   "source": [
    "# Equação do sistema massa-mola\n",
    "def solve_system(m, k, x0, v0):\n",
    "    w_n = np.sqrt(k / m)\n",
    "    def modelo(x, t):\n",
    "        return [x[1], -w_n**2 * x[0]]\n",
    "    \n",
    "    t = np.linspace(0, 10, 500)\n",
    "    sol = odeint(modelo, [x0, v0], t)\n",
    "    return t, sol[:, 0]\n",
    "\n",
    "# Função de animação\n",
    "def animate_mass_spring(m=1.0, k=10.0, x0=1.0, v0=0.0):\n",
    "    t, x = solve_system(m, k, x0, v0)\n",
    "    \n",
    "    fig, ax = plt.subplots(figsize=(8, 2))\n",
    "    ax.set_xlim(-2, 2)\n",
    "    ax.set_ylim(-0.5, 0.5)\n",
    "    ax.axis('off')\n",
    "    \n",
    "    # Mola como uma linha\n",
    "    spring_line, = ax.plot([], [], lw=4, color='black')\n",
    "    # Massa como um quadrado\n",
    "    mass_box = plt.Rectangle((0, -0.2), 0.2, 0.4, fc='blue')\n",
    "    ax.add_patch(mass_box)\n",
    "\n",
    "    def init():\n",
    "        spring_line.set_data([], [])\n",
    "        mass_box.set_xy((-0.1, -0.2))\n",
    "        return spring_line, mass_box\n",
    "\n",
    "    def update(frame):\n",
    "        dx = x[frame]\n",
    "        spring_line.set_data([-1, dx], [0, 0])\n",
    "        mass_box.set_xy((dx - 0.1, -0.2))\n",
    "        return spring_line, mass_box\n",
    "\n",
    "    ani = animation.FuncAnimation(fig, update, frames=len(t), init_func=init,\n",
    "                                  blit=True, interval=20, repeat=False)\n",
    "    plt.close(fig)\n",
    "    return HTML(ani.to_jshtml())\n",
    "\n",
    "# Sliders\n",
    "massa_slider = FloatSlider(value=1, min=0.1, max=10, step=0.1, description='Massa (kg)')\n",
    "k_slider = FloatSlider(value=10, min=1, max=100, step=1, description='Rigidez (N/m)')\n",
    "x0_slider = FloatSlider(value=1, min=-2, max=2, step=0.1, description='x₀ (m)')\n",
    "v0_slider = FloatSlider(value=0, min=-10, max=10, step=0.1, description='v₀ (m/s)')\n",
    "\n",
    "# Botão reset\n",
    "reset_button = Button(description=\"Reset\", button_style='warning')\n",
    "\n",
    "def reset(_):\n",
    "    massa_slider.value = 1\n",
    "    k_slider.value = 10\n",
    "    x0_slider.value = 1\n",
    "    v0_slider.value = 0\n",
    "\n",
    "reset_button.on_click(reset)\n",
    "\n",
    "# Função de output\n",
    "def show_animation(m, k, x0, v0):\n",
    "    display(animate_mass_spring(m, k, x0, v0))\n",
    "\n",
    "ui = VBox([\n",
    "    HBox([massa_slider, k_slider]),\n",
    "    HBox([x0_slider, v0_slider]),\n",
    "    reset_button\n",
    "])\n",
    "\n",
    "out = interactive_output(show_animation, {\n",
    "    'm': massa_slider,\n",
    "    'k': k_slider,\n",
    "    'x0': x0_slider,\n",
    "    'v0': v0_slider\n",
    "})\n",
    "\n",
    "display(ui, out)"
   ]
  },
  {
   "cell_type": "markdown",
   "id": "29bb46c8-ad95-4570-959b-fe108bd95c3c",
   "metadata": {},
   "source": [
    "## Print Dependencies"
   ]
  },
  {
   "cell_type": "code",
   "execution_count": null,
   "id": "d3a4e5ea-5bcb-4522-8d9f-3b712f4ff168",
   "metadata": {},
   "outputs": [],
   "source": [
    "!conda install conda-forge::watermark"
   ]
  },
  {
   "cell_type": "code",
   "execution_count": null,
   "id": "19a5a52c-9a26-4c2d-bd97-b5eccb14dd23",
   "metadata": {},
   "outputs": [],
   "source": []
  },
  {
   "cell_type": "code",
   "execution_count": 1,
   "id": "220e7d4d-369c-4fc9-a105-9bd38c83bb65",
   "metadata": {},
   "outputs": [
    {
     "name": "stdout",
     "output_type": "stream",
     "text": [
      "Python implementation: CPython\n",
      "Python version       : 3.12.6\n",
      "IPython version      : 8.28.0\n",
      "\n",
      "wget         : not installed\n",
      "pandas       : 2.2.2\n",
      "numpy        : 1.26.4\n",
      "geopy        : not installed\n",
      "altair       : not installed\n",
      "vega         : not installed\n",
      "vega_datasets: not installed\n",
      "watermark    : 2.5.0\n",
      "\n",
      "Compiler    : GCC 13.3.0\n",
      "OS          : Linux\n",
      "Release     : 6.8.0-57-generic\n",
      "Machine     : x86_64\n",
      "Processor   : x86_64\n",
      "CPU cores   : 32\n",
      "Architecture: 64bit\n",
      "\n",
      " \n",
      "Last updated: Sun Apr 27 2025 11:41:47BST\n",
      "\n"
     ]
    }
   ],
   "source": [
    "%load_ext watermark\n",
    "\n",
    "# python, ipython, packages, and machine characteristics\n",
    "%watermark -v -m -p wget,pandas,numpy,geopy,altair,vega,vega_datasets,watermark \n",
    "\n",
    "# date\n",
    "print (\" \")\n",
    "%watermark -u -n -t -z "
   ]
  },
  {
   "cell_type": "code",
   "execution_count": null,
   "id": "7e16cb68-4bb1-4361-be08-e795a50b01b3",
   "metadata": {},
   "outputs": [],
   "source": []
  },
  {
   "cell_type": "code",
   "execution_count": null,
   "id": "ccc5cc62-15bb-4649-af0f-944e699d7180",
   "metadata": {},
   "outputs": [],
   "source": []
  }
 ],
 "metadata": {
  "kernelspec": {
   "display_name": "Python 3 (ipykernel)",
   "language": "python",
   "name": "python3"
  },
  "language_info": {
   "codemirror_mode": {
    "name": "ipython",
    "version": 3
   },
   "file_extension": ".py",
   "mimetype": "text/x-python",
   "name": "python",
   "nbconvert_exporter": "python",
   "pygments_lexer": "ipython3",
   "version": "3.12.6"
  }
 },
 "nbformat": 4,
 "nbformat_minor": 5
}
